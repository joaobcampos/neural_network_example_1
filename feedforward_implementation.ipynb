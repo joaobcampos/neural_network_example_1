{
 "cells": [
  {
   "cell_type": "code",
   "execution_count": 1,
   "metadata": {},
   "outputs": [],
   "source": [
    "import numpy as np\n",
    "from neural_network import Layer\n",
    "from neural_network import LoadData\n",
    "import pandas as pd\n",
    "import matplotlib.pyplot as plt\n",
    "import copy"
   ]
  },
  {
   "cell_type": "code",
   "execution_count": 2,
   "metadata": {},
   "outputs": [],
   "source": [
    "DataLoader = LoadData.LoadData()\n",
    "X_train, X_test, y_train, y_test = DataLoader.partition_dataset()"
   ]
  },
  {
   "cell_type": "code",
   "execution_count": 3,
   "metadata": {},
   "outputs": [],
   "source": [
    "learning_rate = 0.1\n",
    "layer_1 = Layer.Layer(4,8,learning_rate)\n",
    "layer_2 = Layer.Layer(8,5,learning_rate)\n",
    "layer_3 = Layer.Layer(5,3,learning_rate)"
   ]
  },
  {
   "cell_type": "code",
   "execution_count": 4,
   "metadata": {},
   "outputs": [],
   "source": [
    "layer_1.initialize()\n",
    "layer_2.initialize()\n",
    "layer_3.initialize()"
   ]
  },
  {
   "cell_type": "code",
   "execution_count": 5,
   "metadata": {},
   "outputs": [
    {
     "data": {
      "text/plain": [
       "(4, 1, 50)"
      ]
     },
     "execution_count": 5,
     "metadata": {},
     "output_type": "execute_result"
    }
   ],
   "source": [
    "X_test.shape"
   ]
  },
  {
   "cell_type": "code",
   "execution_count": 6,
   "metadata": {},
   "outputs": [],
   "source": [
    "epochs = 10000\n",
    "batch_size = 5\n",
    "training_error = np.zeros(shape=(epochs, batch_size)) # Container of the training error\n",
    "testing_error = np.zeros(shape=(epochs, X_test.shape[2])) #Container for the testing error\n",
    "for k in range(epochs):\n",
    "    # Select withing the training set the samples that will be given for the batch\n",
    "    indexes = np.random.randint(0, high=99, size=(batch_size,))\n",
    "    X_train_ = X_train[:,:,indexes].copy()\n",
    "    y_train_ = y_train[:,:,indexes].copy()\n",
    "    for i in range(X_train_.shape[2]):\n",
    "        X_in = X_train_[:,:,i]\n",
    "        #Beginning of forward propagation\n",
    "        layer_1.receive_input_vector(X_in)\n",
    "        layer_1.calculate_output_vector()\n",
    "        \n",
    "        layer_2.receive_input_vector(layer_1.output_vector)\n",
    "        layer_2.calculate_output_vector()\n",
    "        \n",
    "        layer_3.receive_input_vector(layer_2.output_vector)\n",
    "        layer_3.calculate_output_vector()\n",
    "        \n",
    "        y_in = y_train_[:,:,i]\n",
    "        \n",
    "        #Error vector (final step of forward propagation)\n",
    "        error = layer_3.output_vector - y_in\n",
    "        \n",
    "        \n",
    "        #Beginning of the backpropagation algorithm\n",
    "        training_error[k][i] = np.dot(error.T, error)\n",
    "        \n",
    "        layer_3.update_weights(error)\n",
    "        back_3 = layer_3.return_derivative_vector(error)\n",
    "        \n",
    "        layer_2.update_weights(back_3)\n",
    "        back_2 = layer_2.return_derivative_vector(back_3)\n",
    "        \n",
    "        layer_1.update_weights(back_2)\n",
    "    \n",
    "    # At this point, for this epoch (where we give 5 samples to the network to update the weights and bias)\n",
    "    # the weights and biases are updated. In order to not mess with the weights, we will copy each layer\n",
    "    layer_1_aux = copy.deepcopy(layer_1)\n",
    "    layer_2_aux = copy.deepcopy(layer_2)\n",
    "    layer_3_aux = copy.deepcopy(layer_3)\n",
    "    # Now that we have copied the network at the present moment, we can have the errors made at the testing dataset\n",
    "    for i in range(X_test.shape[2]):\n",
    "        X_test_1=X_test[:,:,i]\n",
    "        y_test_1=y_test[:,:,i]\n",
    "        layer_1_aux.receive_input_vector(X_test_1)\n",
    "        layer_1_aux.calculate_output_vector()\n",
    "        \n",
    "        layer_2_aux.receive_input_vector(layer_1.output_vector)\n",
    "        layer_2_aux.calculate_output_vector()\n",
    "        \n",
    "        layer_3_aux.receive_input_vector(layer_2.output_vector)\n",
    "        layer_3_aux.calculate_output_vector()\n",
    "        y_pred = layer_3_aux.output_vector\n",
    "    \n",
    "        diff = y_test_1 - y_pred\n",
    "        testing_error[k, i] = np.dot(diff.T, diff)"
   ]
  },
  {
   "cell_type": "code",
   "execution_count": 7,
   "metadata": {},
   "outputs": [
    {
     "data": {
      "text/plain": [
       "(10000, 5)"
      ]
     },
     "execution_count": 7,
     "metadata": {},
     "output_type": "execute_result"
    }
   ],
   "source": [
    "training_error.shape"
   ]
  },
  {
   "cell_type": "code",
   "execution_count": 8,
   "metadata": {},
   "outputs": [
    {
     "data": {
      "text/plain": [
       "(10000, 50)"
      ]
     },
     "execution_count": 8,
     "metadata": {},
     "output_type": "execute_result"
    }
   ],
   "source": [
    "testing_error.shape"
   ]
  },
  {
   "cell_type": "code",
   "execution_count": 9,
   "metadata": {},
   "outputs": [],
   "source": [
    "mean_training_error = np.mean(training_error, axis=1)\n",
    "mean_testing_error = np.mean(testing_error, axis=1)"
   ]
  },
  {
   "cell_type": "code",
   "execution_count": 22,
   "metadata": {},
   "outputs": [
    {
     "data": {
      "text/plain": [
       "(10000,)"
      ]
     },
     "execution_count": 22,
     "metadata": {},
     "output_type": "execute_result"
    }
   ],
   "source": [
    "mean_training_error.shape"
   ]
  },
  {
   "cell_type": "code",
   "execution_count": 35,
   "metadata": {},
   "outputs": [
    {
     "data": {
      "text/plain": [
       "<matplotlib.legend.Legend at 0x7ff0c808c940>"
      ]
     },
     "execution_count": 35,
     "metadata": {},
     "output_type": "execute_result"
    },
    {
     "data": {
      "image/png": "[encoded data removed]",
      "text/plain": [
       "<Figure size 432x288 with 1 Axes>"
      ]
     },
     "metadata": {
      "needs_background": "light"
     },
     "output_type": "display_data"
    }
   ],
   "source": [
    "x_tr = np.array(range(mean_training_error.shape[0]))\n",
    "x_ts = np.array(range(mean_testing_error.shape[0]))\n",
    "\n",
    "lines = plt.plot(x_tr, mean_training_error, x_ts, mean_testing_error)\n",
    "\n",
    "plt.legend(('train', 'test'),loc='upper right')"
   ]
  },
  {
   "cell_type": "markdown",
   "metadata": {},
   "source": [
    "We can see on the previous figure that the error for the test set diminishes (on average) and that the error on\n",
    "the training set decreases, then increases and stabilizes."
   ]
  },
  {
   "cell_type": "markdown",
   "metadata": {},
   "source": [
    "We can now check how many testing samples were correctly classified"
   ]
  },
  {
   "cell_type": "code",
   "execution_count": 36,
   "metadata": {},
   "outputs": [],
   "source": [
    "sum_train = 0\n",
    "for i in range(X_train.shape[2]):\n",
    "    X_train_1=X_train[:,:,i]\n",
    "    y_train_1=y_train[:,:,i]\n",
    "    layer_1.receive_input_vector(X_train_1)\n",
    "    layer_1.calculate_output_vector()\n",
    "        \n",
    "    layer_2.receive_input_vector(layer_1.output_vector)\n",
    "    layer_2.calculate_output_vector()\n",
    "    layer_3.receive_input_vector(layer_2.output_vector)\n",
    "    layer_3.calculate_output_vector()\n",
    "    y_pred = np.rint(layer_3.output_vector)\n",
    "    \n",
    "    diff_ = y_pred - y_train_1\n",
    "    sum_train = sum_train + diff_.sum()"
   ]
  },
  {
   "cell_type": "code",
   "execution_count": 37,
   "metadata": {},
   "outputs": [],
   "source": [
    "sum_test = 0\n",
    "for i in range(X_test.shape[2]):\n",
    "    X_test_1=X_test[:,:,i]\n",
    "    y_test_1=y_test[:,:,i]\n",
    "    layer_1.receive_input_vector(X_test_1)\n",
    "    layer_1.calculate_output_vector()\n",
    "        \n",
    "    layer_2.receive_input_vector(layer_1.output_vector)\n",
    "    layer_2.calculate_output_vector()\n",
    "    layer_3.receive_input_vector(layer_2.output_vector)\n",
    "    layer_3.calculate_output_vector()\n",
    "    y_pred = np.rint(layer_3.output_vector)\n",
    "    \n",
    "    diff_ = np.abs(y_pred - y_test_1)\n",
    "    sum_test = sum_test + diff_.sum()"
   ]
  },
  {
   "cell_type": "code",
   "execution_count": 38,
   "metadata": {},
   "outputs": [
    {
     "name": "stdout",
     "output_type": "stream",
     "text": [
      "0.0\n",
      "0.08\n"
     ]
    }
   ],
   "source": [
    "print(sum_train/X_train.shape[2])\n",
    "print(sum_test/X_test.shape[2])"
   ]
  },
  {
   "cell_type": "code",
   "execution_count": null,
   "metadata": {},
   "outputs": [],
   "source": []
  }
 ],
 "metadata": {
  "kernelspec": {
   "display_name": "Python 3",
   "language": "python",
   "name": "python3"
  },
  "language_info": {
   "codemirror_mode": {
    "name": "ipython",
    "version": 3
   },
   "file_extension": ".py",
   "mimetype": "text/x-python",
   "name": "python",
   "nbconvert_exporter": "python",
   "pygments_lexer": "ipython3",
   "version": "3.5.6"
  }
 },
 "nbformat": 4,
 "nbformat_minor": 2
}
