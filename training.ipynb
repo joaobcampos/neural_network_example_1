{
 "cells": [
  {
   "cell_type": "code",
   "execution_count": 1,
   "metadata": {},
   "outputs": [],
   "source": [
    "## Test if network works as intended"
   ]
  },
  {
   "cell_type": "code",
   "execution_count": 1,
   "metadata": {},
   "outputs": [],
   "source": [
    "import numpy as np\n",
    "from neural_network import Layer\n",
    "from neural_network import LoadData\n",
    "from neural_network import ActivationFunction\n",
    "from neural_network import NeuralNetwork\n",
    "import pandas as pd\n",
    "import matplotlib.pyplot as plt\n",
    "import copy"
   ]
  },
  {
   "cell_type": "code",
   "execution_count": 2,
   "metadata": {},
   "outputs": [],
   "source": [
    "#Creation of the network\n",
    "dimensions = np.array([4, 8, 5, 3])\n",
    "functions = np.array([ActivationFunction.sigmoid(), ActivationFunction.sigmoid(), ActivationFunction.sigmoid()])\n",
    "ff_nn = NeuralNetwork.NeuralNetwork(functions, dimensions, 0.01)"
   ]
  },
  {
   "cell_type": "code",
   "execution_count": 3,
   "metadata": {},
   "outputs": [],
   "source": [
    "#Load training and testing data\n",
    "DataLoader = LoadData.LoadData()\n",
    "X_train, X_test, y_train, y_test = DataLoader.partition_dataset()"
   ]
  },
  {
   "cell_type": "code",
   "execution_count": 4,
   "metadata": {},
   "outputs": [],
   "source": [
    "def evaluate_error_datasets(X_dataset, y_dataset, network):\n",
    "    error_list = np.zeros((X_dataset.shape[2], ))\n",
    "    for i in range(X_dataset.shape[2]):\n",
    "        X_in = X_dataset[:,:,i]\n",
    "        y    = y_dataset[:,:,i]\n",
    "        y_out = ff_nn.propagation(X_in)\n",
    "        diff = y - y_out\n",
    "        error = np.dot(diff.T, diff)\n",
    "        error_list[i] = error[0,0]\n",
    "    return error_list"
   ]
  },
  {
   "cell_type": "code",
   "execution_count": 5,
   "metadata": {},
   "outputs": [],
   "source": [
    "epochs = 10000\n",
    "batch_size = 5\n",
    "training_error = np.zeros(shape=(epochs, X_train.shape[2])) # Container of the training error\n",
    "testing_error = np.zeros(shape=(epochs, X_test.shape[2])) #Container for the testing error\n",
    "for k in range(epochs):\n",
    "    # Select withing the training set the samples that will be given for the batch\n",
    "    indexes = np.random.randint(0, high=99, size=(batch_size,))\n",
    "    X_train_ = X_train[:,:,indexes].copy()\n",
    "    y_train_ = y_train[:,:,indexes].copy()\n",
    "    \n",
    "    #Bear in mind this is not the most efficient way to implement a nn. \n",
    "    #It was used merely to illustrate the mathematical concepts\n",
    "    #At this point the weights and biases of the network were updated for this specific\n",
    "    #sample\n",
    "    for i in range(X_train_.shape[2]):\n",
    "        X_in = X_train_[:,:,i]\n",
    "        y_in = y_train_[:,:,i]\n",
    "        ff_nn.backpropagation_algorithm(X_in, y_in)\n",
    "        \n",
    "    # It is interesting to see how the error evolves with the time\n",
    "    # At this point we run the network as is for the test set\n",
    "    training_error[k, :] = evaluate_error_datasets(X_train, y_train, ff_nn)\n",
    "    testing_error[k, :]  = evaluate_error_datasets(X_test, y_test, ff_nn)"
   ]
  },
  {
   "cell_type": "code",
   "execution_count": 6,
   "metadata": {},
   "outputs": [],
   "source": [
    "training_error_stat = np.mean(training_error, axis=1)\n",
    "testing_error_stat  = np.mean(testing_error, axis=1)"
   ]
  },
  {
   "cell_type": "code",
   "execution_count": 17,
   "metadata": {
    "scrolled": true
   },
   "outputs": [
    {
     "data": {
      "text/plain": [
       "Text(0, 0.5, 'mean squared error')"
      ]
     },
     "execution_count": 17,
     "metadata": {},
     "output_type": "execute_result"
    },
    {
     "data": {
      "image/png": "[encoded data removed]",
      "text/plain": [
       "<Figure size 432x288 with 1 Axes>"
      ]
     },
     "metadata": {
      "needs_background": "light"
     },
     "output_type": "display_data"
    }
   ],
   "source": [
    "x_tr = np.array(range(training_error_stat.shape[0]))\n",
    "x_ts = np.array(range(testing_error_stat.shape[0]))\n",
    "fig1 = plt.gcf()\n",
    "lines = plt.plot(x_tr, training_error_stat, x_ts, testing_error_stat)\n",
    "fig1.legend(('train', 'test'),loc='upper right')\n",
    "plt.xlabel('iteration')\n",
    "plt.ylabel('mean squared error')"
   ]
  },
  {
   "cell_type": "code",
   "execution_count": 18,
   "metadata": {},
   "outputs": [],
   "source": [
    "\n",
    "fig1.savefig('error_evolution.png')"
   ]
  },
  {
   "cell_type": "code",
   "execution_count": null,
   "metadata": {},
   "outputs": [],
   "source": []
  },
  {
   "cell_type": "code",
   "execution_count": null,
   "metadata": {},
   "outputs": [],
   "source": []
  }
 ],
 "metadata": {
  "kernelspec": {
   "display_name": "Python 3",
   "language": "python",
   "name": "python3"
  },
  "language_info": {
   "codemirror_mode": {
    "name": "ipython",
    "version": 3
   },
   "file_extension": ".py",
   "mimetype": "text/x-python",
   "name": "python",
   "nbconvert_exporter": "python",
   "pygments_lexer": "ipython3",
   "version": "3.7.3"
  }
 },
 "nbformat": 4,
 "nbformat_minor": 2
}
